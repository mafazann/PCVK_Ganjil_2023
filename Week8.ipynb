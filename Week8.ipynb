{
  "nbformat": 4,
  "nbformat_minor": 0,
  "metadata": {
    "colab": {
      "provenance": [],
      "authorship_tag": "ABX9TyOyLJ8lc9DmQ4Pr1PeGxWw5",
      "include_colab_link": true
    },
    "kernelspec": {
      "name": "python3",
      "display_name": "Python 3"
    },
    "language_info": {
      "name": "python"
    }
  },
  "cells": [
    {
      "cell_type": "markdown",
      "metadata": {
        "id": "view-in-github",
        "colab_type": "text"
      },
      "source": [
        "<a href=\"https://colab.research.google.com/github/mafazann/PCVK_Ganjil_2023/blob/main/Week8.ipynb\" target=\"_parent\"><img src=\"https://colab.research.google.com/assets/colab-badge.svg\" alt=\"Open In Colab\"/></a>"
      ]
    },
    {
      "cell_type": "markdown",
      "source": [
        "### Nama  : M. Rizky Mafazan\n",
        "### Kelas : 3F - TI\n",
        "### NIM   : 2141720140"
      ],
      "metadata": {
        "id": "87x9iS6i7VSP"
      }
    },
    {
      "cell_type": "code",
      "source": [],
      "metadata": {
        "id": "OKl58MXA7XyQ"
      },
      "execution_count": null,
      "outputs": []
    }
  ]
}